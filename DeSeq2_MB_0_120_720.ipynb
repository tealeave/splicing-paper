{
 "cells": [
  {
   "cell_type": "code",
   "execution_count": null,
   "metadata": {
    "vscode": {
     "languageId": "r"
    }
   },
   "outputs": [],
   "source": [
    "if (!requireNamespace(\"BiocManager\", quietly = TRUE))\n",
    "    install.packages(\"BiocManager\")\n",
    "\n",
    "BiocManager::install(\"DESeq2\")"
   ]
  },
  {
   "cell_type": "code",
   "execution_count": 20,
   "metadata": {
    "vscode": {
     "languageId": "r"
    }
   },
   "outputs": [
    {
     "name": "stderr",
     "output_type": "stream",
     "text": [
      "Loading required package: S4Vectors\n",
      "\n",
      "Loading required package: stats4\n",
      "\n"
     ]
    },
    {
     "name": "stderr",
     "output_type": "stream",
     "text": [
      "Loading required package: BiocGenerics\n",
      "\n",
      "\n",
      "Attaching package: ‘BiocGenerics’\n",
      "\n",
      "\n",
      "The following objects are masked from ‘package:stats’:\n",
      "\n",
      "    IQR, mad, sd, var, xtabs\n",
      "\n",
      "\n",
      "The following objects are masked from ‘package:base’:\n",
      "\n",
      "    anyDuplicated, aperm, append, as.data.frame, basename, cbind,\n",
      "    colnames, dirname, do.call, duplicated, eval, evalq, Filter, Find,\n",
      "    get, grep, grepl, intersect, is.unsorted, lapply, Map, mapply,\n",
      "    match, mget, order, paste, pmax, pmax.int, pmin, pmin.int,\n",
      "    Position, rank, rbind, Reduce, rownames, sapply, setdiff, sort,\n",
      "    table, tapply, union, unique, unsplit, which.max, which.min\n",
      "\n",
      "\n",
      "\n",
      "Attaching package: ‘S4Vectors’\n",
      "\n",
      "\n",
      "The following object is masked from ‘package:utils’:\n",
      "\n",
      "    findMatches\n",
      "\n",
      "\n",
      "The following objects are masked from ‘package:base’:\n",
      "\n",
      "    expand.grid, I, unname\n",
      "\n",
      "\n",
      "Loading required package: IRanges\n",
      "\n",
      "Loading required package: GenomicRanges\n",
      "\n",
      "Loading required package: GenomeInfoDb\n",
      "\n",
      "Loading required package: SummarizedExperiment\n",
      "\n",
      "Loading required package: MatrixGenerics\n",
      "\n",
      "Loading required package: matrixStats\n",
      "\n",
      "\n",
      "Attaching package: ‘MatrixGenerics’\n",
      "\n",
      "\n",
      "The following objects are masked from ‘package:matrixStats’:\n",
      "\n",
      "    colAlls, colAnyNAs, colAnys, colAvgsPerRowSet, colCollapse,\n",
      "    colCounts, colCummaxs, colCummins, colCumprods, colCumsums,\n",
      "    colDiffs, colIQRDiffs, colIQRs, colLogSumExps, colMadDiffs,\n",
      "    colMads, colMaxs, colMeans2, colMedians, colMins, colOrderStats,\n",
      "    colProds, colQuantiles, colRanges, colRanks, colSdDiffs, colSds,\n",
      "    colSums2, colTabulates, colVarDiffs, colVars, colWeightedMads,\n",
      "    colWeightedMeans, colWeightedMedians, colWeightedSds,\n",
      "    colWeightedVars, rowAlls, rowAnyNAs, rowAnys, rowAvgsPerColSet,\n",
      "    rowCollapse, rowCounts, rowCummaxs, rowCummins, rowCumprods,\n",
      "    rowCumsums, rowDiffs, rowIQRDiffs, rowIQRs, rowLogSumExps,\n",
      "    rowMadDiffs, rowMads, rowMaxs, rowMeans2, rowMedians, rowMins,\n",
      "    rowOrderStats, rowProds, rowQuantiles, rowRanges, rowRanks,\n",
      "    rowSdDiffs, rowSds, rowSums2, rowTabulates, rowVarDiffs, rowVars,\n",
      "    rowWeightedMads, rowWeightedMeans, rowWeightedMedians,\n",
      "    rowWeightedSds, rowWeightedVars\n",
      "\n",
      "\n",
      "Loading required package: Biobase\n",
      "\n",
      "Welcome to Bioconductor\n",
      "\n",
      "    Vignettes contain introductory material; view with\n",
      "    'browseVignettes()'. To cite Bioconductor, see\n",
      "    'citation(\"Biobase\")', and for packages 'citation(\"pkgname\")'.\n",
      "\n",
      "\n",
      "\n",
      "Attaching package: ‘Biobase’\n",
      "\n",
      "\n",
      "The following object is masked from ‘package:MatrixGenerics’:\n",
      "\n",
      "    rowMedians\n",
      "\n",
      "\n",
      "The following objects are masked from ‘package:matrixStats’:\n",
      "\n",
      "    anyMissing, rowMedians\n",
      "\n",
      "\n"
     ]
    }
   ],
   "source": [
    "#counts location\n",
    "infile = \"./MBsimple_counts_fixed.txt\"\n",
    "library(DESeq2)\n"
   ]
  },
  {
   "cell_type": "code",
   "execution_count": 21,
   "metadata": {
    "vscode": {
     "languageId": "r"
    }
   },
   "outputs": [
    {
     "name": "stdout",
     "output_type": "stream",
     "text": [
      "[1] \"./MBsimple_counts_fixed.txt\"\n"
     ]
    }
   ],
   "source": [
    "print(infile)"
   ]
  },
  {
   "cell_type": "code",
   "execution_count": 22,
   "metadata": {
    "vscode": {
     "languageId": "r"
    }
   },
   "outputs": [
    {
     "data": {
      "text/html": [
       "<style>\n",
       ".list-inline {list-style: none; margin:0; padding: 0}\n",
       ".list-inline>li {display: inline-block}\n",
       ".list-inline>li:not(:last-child)::after {content: \"\\00b7\"; padding: 0 .5ex}\n",
       "</style>\n",
       "<ol class=list-inline><li>'3'</li><li>'3'</li><li>'3'</li><li>'3'</li></ol>\n"
      ],
      "text/latex": [
       "\\begin{enumerate*}\n",
       "\\item '3'\n",
       "\\item '3'\n",
       "\\item '3'\n",
       "\\item '3'\n",
       "\\end{enumerate*}\n"
      ],
      "text/markdown": [
       "1. '3'\n",
       "2. '3'\n",
       "3. '3'\n",
       "4. '3'\n",
       "\n",
       "\n"
      ],
      "text/plain": [
       "[1] \"3\" \"3\" \"3\" \"3\""
      ]
     },
     "metadata": {},
     "output_type": "display_data"
    }
   ],
   "source": [
    "# Extract the experimental design from the command line.\n",
    "#design for 3 reps 4 conditions\n",
    "design = c( \"3\", \"3\", \"3\", \"3\")\n",
    "design"
   ]
  },
  {
   "cell_type": "code",
   "execution_count": 23,
   "metadata": {
    "vscode": {
     "languageId": "r"
    }
   },
   "outputs": [],
   "source": [
    "# Find the desing counts.\n",
    "reps1 = as.integer(design[1])\n",
    "reps2 = as.integer(design[2])\n",
    "reps3 = as.integer(design[3])\n",
    "reps4 = as.integer(design[4])"
   ]
  },
  {
   "cell_type": "code",
   "execution_count": 24,
   "metadata": {
    "vscode": {
     "languageId": "r"
    }
   },
   "outputs": [],
   "source": [
    "# Set up the conditions based on the experimental setup.\n",
    "MB468_000 = rep(\"MB468_000\", reps1)\n",
    "MB468_30 = rep(\"MB468_30\", reps2)\n",
    "MB468_120 = rep(\"MB468_120\", reps3)\n",
    "MB468_720 = rep(\"MB468_720\", reps4)"
   ]
  },
  {
   "cell_type": "code",
   "execution_count": 25,
   "metadata": {
    "vscode": {
     "languageId": "r"
    }
   },
   "outputs": [
    {
     "data": {
      "text/html": [
       "<style>\n",
       ".list-inline {list-style: none; margin:0; padding: 0}\n",
       ".list-inline>li {display: inline-block}\n",
       ".list-inline>li:not(:last-child)::after {content: \"\\00b7\"; padding: 0 .5ex}\n",
       "</style>\n",
       "<ol class=list-inline><li>'MB468_000'</li><li>'MB468_000'</li><li>'MB468_000'</li></ol>\n"
      ],
      "text/latex": [
       "\\begin{enumerate*}\n",
       "\\item 'MB468\\_000'\n",
       "\\item 'MB468\\_000'\n",
       "\\item 'MB468\\_000'\n",
       "\\end{enumerate*}\n"
      ],
      "text/markdown": [
       "1. 'MB468_000'\n",
       "2. 'MB468_000'\n",
       "3. 'MB468_000'\n",
       "\n",
       "\n"
      ],
      "text/plain": [
       "[1] \"MB468_000\" \"MB468_000\" \"MB468_000\""
      ]
     },
     "metadata": {},
     "output_type": "display_data"
    }
   ],
   "source": [
    "MB468_000"
   ]
  },
  {
   "cell_type": "code",
   "execution_count": 26,
   "metadata": {
    "vscode": {
     "languageId": "r"
    }
   },
   "outputs": [
    {
     "data": {
      "text/html": [
       "<table class=\"dataframe\">\n",
       "<caption>A data.frame: 6 × 12</caption>\n",
       "<thead>\n",
       "\t<tr><th></th><th scope=col>MB468_000_01</th><th scope=col>MB468_000_02</th><th scope=col>MB468_000_03</th><th scope=col>MB468_030_01</th><th scope=col>MB468_030_02</th><th scope=col>MB468_030_03</th><th scope=col>MB468_120_01</th><th scope=col>MB468_120_02</th><th scope=col>MB468_120_03</th><th scope=col>MB468_720_01</th><th scope=col>MB468_720_02</th><th scope=col>MB468_720_03</th></tr>\n",
       "\t<tr><th></th><th scope=col>&lt;int&gt;</th><th scope=col>&lt;int&gt;</th><th scope=col>&lt;int&gt;</th><th scope=col>&lt;int&gt;</th><th scope=col>&lt;int&gt;</th><th scope=col>&lt;int&gt;</th><th scope=col>&lt;int&gt;</th><th scope=col>&lt;int&gt;</th><th scope=col>&lt;int&gt;</th><th scope=col>&lt;int&gt;</th><th scope=col>&lt;int&gt;</th><th scope=col>&lt;int&gt;</th></tr>\n",
       "</thead>\n",
       "<tbody>\n",
       "\t<tr><th scope=row>C1orf141</th><td>   0</td><td>   0</td><td>   0</td><td>   0</td><td>   0</td><td>   0</td><td>   0</td><td>   0</td><td>   0</td><td>   0</td><td>   0</td><td>   0</td></tr>\n",
       "\t<tr><th scope=row>PKP1</th><td>  48</td><td>  42</td><td>  28</td><td>  20</td><td>  11</td><td>  10</td><td> 234</td><td> 170</td><td> 272</td><td> 646</td><td> 398</td><td> 562</td></tr>\n",
       "\t<tr><th scope=row>RERE</th><td>3487</td><td>3719</td><td>2234</td><td>4534</td><td>2760</td><td>1853</td><td>2525</td><td>1645</td><td>2435</td><td>4331</td><td>2484</td><td>4481</td></tr>\n",
       "\t<tr><th scope=row>CSMD2</th><td>   0</td><td>   1</td><td>   2</td><td>   0</td><td>   0</td><td>   0</td><td>   0</td><td>   0</td><td>   0</td><td>   0</td><td>   0</td><td>   0</td></tr>\n",
       "\t<tr><th scope=row>HIVEP3</th><td> 598</td><td> 638</td><td> 350</td><td> 533</td><td> 362</td><td> 208</td><td> 447</td><td> 241</td><td> 446</td><td>1082</td><td> 523</td><td>1011</td></tr>\n",
       "\t<tr><th scope=row>TTLL7</th><td> 222</td><td> 250</td><td> 161</td><td> 356</td><td> 252</td><td> 115</td><td> 117</td><td> 116</td><td> 180</td><td> 218</td><td> 127</td><td> 202</td></tr>\n",
       "</tbody>\n",
       "</table>\n"
      ],
      "text/latex": [
       "A data.frame: 6 × 12\n",
       "\\begin{tabular}{r|llllllllllll}\n",
       "  & MB468\\_000\\_01 & MB468\\_000\\_02 & MB468\\_000\\_03 & MB468\\_030\\_01 & MB468\\_030\\_02 & MB468\\_030\\_03 & MB468\\_120\\_01 & MB468\\_120\\_02 & MB468\\_120\\_03 & MB468\\_720\\_01 & MB468\\_720\\_02 & MB468\\_720\\_03\\\\\n",
       "  & <int> & <int> & <int> & <int> & <int> & <int> & <int> & <int> & <int> & <int> & <int> & <int>\\\\\n",
       "\\hline\n",
       "\tC1orf141 &    0 &    0 &    0 &    0 &    0 &    0 &    0 &    0 &    0 &    0 &    0 &    0\\\\\n",
       "\tPKP1 &   48 &   42 &   28 &   20 &   11 &   10 &  234 &  170 &  272 &  646 &  398 &  562\\\\\n",
       "\tRERE & 3487 & 3719 & 2234 & 4534 & 2760 & 1853 & 2525 & 1645 & 2435 & 4331 & 2484 & 4481\\\\\n",
       "\tCSMD2 &    0 &    1 &    2 &    0 &    0 &    0 &    0 &    0 &    0 &    0 &    0 &    0\\\\\n",
       "\tHIVEP3 &  598 &  638 &  350 &  533 &  362 &  208 &  447 &  241 &  446 & 1082 &  523 & 1011\\\\\n",
       "\tTTLL7 &  222 &  250 &  161 &  356 &  252 &  115 &  117 &  116 &  180 &  218 &  127 &  202\\\\\n",
       "\\end{tabular}\n"
      ],
      "text/markdown": [
       "\n",
       "A data.frame: 6 × 12\n",
       "\n",
       "| <!--/--> | MB468_000_01 &lt;int&gt; | MB468_000_02 &lt;int&gt; | MB468_000_03 &lt;int&gt; | MB468_030_01 &lt;int&gt; | MB468_030_02 &lt;int&gt; | MB468_030_03 &lt;int&gt; | MB468_120_01 &lt;int&gt; | MB468_120_02 &lt;int&gt; | MB468_120_03 &lt;int&gt; | MB468_720_01 &lt;int&gt; | MB468_720_02 &lt;int&gt; | MB468_720_03 &lt;int&gt; |\n",
       "|---|---|---|---|---|---|---|---|---|---|---|---|---|\n",
       "| C1orf141 |    0 |    0 |    0 |    0 |    0 |    0 |    0 |    0 |    0 |    0 |    0 |    0 |\n",
       "| PKP1 |   48 |   42 |   28 |   20 |   11 |   10 |  234 |  170 |  272 |  646 |  398 |  562 |\n",
       "| RERE | 3487 | 3719 | 2234 | 4534 | 2760 | 1853 | 2525 | 1645 | 2435 | 4331 | 2484 | 4481 |\n",
       "| CSMD2 |    0 |    1 |    2 |    0 |    0 |    0 |    0 |    0 |    0 |    0 |    0 |    0 |\n",
       "| HIVEP3 |  598 |  638 |  350 |  533 |  362 |  208 |  447 |  241 |  446 | 1082 |  523 | 1011 |\n",
       "| TTLL7 |  222 |  250 |  161 |  356 |  252 |  115 |  117 |  116 |  180 |  218 |  127 |  202 |\n",
       "\n"
      ],
      "text/plain": [
       "         MB468_000_01 MB468_000_02 MB468_000_03 MB468_030_01 MB468_030_02\n",
       "C1orf141    0            0            0            0            0        \n",
       "PKP1       48           42           28           20           11        \n",
       "RERE     3487         3719         2234         4534         2760        \n",
       "CSMD2       0            1            2            0            0        \n",
       "HIVEP3    598          638          350          533          362        \n",
       "TTLL7     222          250          161          356          252        \n",
       "         MB468_030_03 MB468_120_01 MB468_120_02 MB468_120_03 MB468_720_01\n",
       "C1orf141    0            0            0            0            0        \n",
       "PKP1       10          234          170          272          646        \n",
       "RERE     1853         2525         1645         2435         4331        \n",
       "CSMD2       0            0            0            0            0        \n",
       "HIVEP3    208          447          241          446         1082        \n",
       "TTLL7     115          117          116          180          218        \n",
       "         MB468_720_02 MB468_720_03\n",
       "C1orf141    0            0        \n",
       "PKP1      398          562        \n",
       "RERE     2484         4481        \n",
       "CSMD2       0            0        \n",
       "HIVEP3    523         1011        \n",
       "TTLL7     127          202        "
      ]
     },
     "metadata": {},
     "output_type": "display_data"
    }
   ],
   "source": [
    "# Read the data from the standard input.\n",
    "# path <- \"./MBsimple_counts_fixed.txt\"\n",
    "path <- \"./Counts/MBsimple_counts.txt\"\n",
    "counts = read.table(path, header=TRUE, sep=\"\\t\", row.names=1 )\n",
    "head(counts)"
   ]
  },
  {
   "cell_type": "code",
   "execution_count": 27,
   "metadata": {
    "vscode": {
     "languageId": "r"
    }
   },
   "outputs": [
    {
     "data": {
      "text/html": [
       "<table class=\"dataframe\">\n",
       "<caption>A data.frame: 6 × 12</caption>\n",
       "<thead>\n",
       "\t<tr><th></th><th scope=col>MB468_000_01</th><th scope=col>MB468_000_02</th><th scope=col>MB468_000_03</th><th scope=col>MB468_030_01</th><th scope=col>MB468_030_02</th><th scope=col>MB468_030_03</th><th scope=col>MB468_120_01</th><th scope=col>MB468_120_02</th><th scope=col>MB468_120_03</th><th scope=col>MB468_720_01</th><th scope=col>MB468_720_02</th><th scope=col>MB468_720_03</th></tr>\n",
       "\t<tr><th></th><th scope=col>&lt;dbl&gt;</th><th scope=col>&lt;dbl&gt;</th><th scope=col>&lt;dbl&gt;</th><th scope=col>&lt;dbl&gt;</th><th scope=col>&lt;dbl&gt;</th><th scope=col>&lt;dbl&gt;</th><th scope=col>&lt;dbl&gt;</th><th scope=col>&lt;dbl&gt;</th><th scope=col>&lt;dbl&gt;</th><th scope=col>&lt;dbl&gt;</th><th scope=col>&lt;dbl&gt;</th><th scope=col>&lt;dbl&gt;</th></tr>\n",
       "</thead>\n",
       "<tbody>\n",
       "\t<tr><th scope=row>C1orf141</th><td>   0</td><td>   0</td><td>   0</td><td>   0</td><td>   0</td><td>   0</td><td>   0</td><td>   0</td><td>   0</td><td>   0</td><td>   0</td><td>   0</td></tr>\n",
       "\t<tr><th scope=row>PKP1</th><td>  48</td><td>  42</td><td>  28</td><td>  20</td><td>  11</td><td>  10</td><td> 234</td><td> 170</td><td> 272</td><td> 646</td><td> 398</td><td> 562</td></tr>\n",
       "\t<tr><th scope=row>RERE</th><td>3487</td><td>3719</td><td>2234</td><td>4534</td><td>2760</td><td>1853</td><td>2525</td><td>1645</td><td>2435</td><td>4331</td><td>2484</td><td>4481</td></tr>\n",
       "\t<tr><th scope=row>CSMD2</th><td>   0</td><td>   1</td><td>   2</td><td>   0</td><td>   0</td><td>   0</td><td>   0</td><td>   0</td><td>   0</td><td>   0</td><td>   0</td><td>   0</td></tr>\n",
       "\t<tr><th scope=row>HIVEP3</th><td> 598</td><td> 638</td><td> 350</td><td> 533</td><td> 362</td><td> 208</td><td> 447</td><td> 241</td><td> 446</td><td>1082</td><td> 523</td><td>1011</td></tr>\n",
       "\t<tr><th scope=row>TTLL7</th><td> 222</td><td> 250</td><td> 161</td><td> 356</td><td> 252</td><td> 115</td><td> 117</td><td> 116</td><td> 180</td><td> 218</td><td> 127</td><td> 202</td></tr>\n",
       "</tbody>\n",
       "</table>\n"
      ],
      "text/latex": [
       "A data.frame: 6 × 12\n",
       "\\begin{tabular}{r|llllllllllll}\n",
       "  & MB468\\_000\\_01 & MB468\\_000\\_02 & MB468\\_000\\_03 & MB468\\_030\\_01 & MB468\\_030\\_02 & MB468\\_030\\_03 & MB468\\_120\\_01 & MB468\\_120\\_02 & MB468\\_120\\_03 & MB468\\_720\\_01 & MB468\\_720\\_02 & MB468\\_720\\_03\\\\\n",
       "  & <dbl> & <dbl> & <dbl> & <dbl> & <dbl> & <dbl> & <dbl> & <dbl> & <dbl> & <dbl> & <dbl> & <dbl>\\\\\n",
       "\\hline\n",
       "\tC1orf141 &    0 &    0 &    0 &    0 &    0 &    0 &    0 &    0 &    0 &    0 &    0 &    0\\\\\n",
       "\tPKP1 &   48 &   42 &   28 &   20 &   11 &   10 &  234 &  170 &  272 &  646 &  398 &  562\\\\\n",
       "\tRERE & 3487 & 3719 & 2234 & 4534 & 2760 & 1853 & 2525 & 1645 & 2435 & 4331 & 2484 & 4481\\\\\n",
       "\tCSMD2 &    0 &    1 &    2 &    0 &    0 &    0 &    0 &    0 &    0 &    0 &    0 &    0\\\\\n",
       "\tHIVEP3 &  598 &  638 &  350 &  533 &  362 &  208 &  447 &  241 &  446 & 1082 &  523 & 1011\\\\\n",
       "\tTTLL7 &  222 &  250 &  161 &  356 &  252 &  115 &  117 &  116 &  180 &  218 &  127 &  202\\\\\n",
       "\\end{tabular}\n"
      ],
      "text/markdown": [
       "\n",
       "A data.frame: 6 × 12\n",
       "\n",
       "| <!--/--> | MB468_000_01 &lt;dbl&gt; | MB468_000_02 &lt;dbl&gt; | MB468_000_03 &lt;dbl&gt; | MB468_030_01 &lt;dbl&gt; | MB468_030_02 &lt;dbl&gt; | MB468_030_03 &lt;dbl&gt; | MB468_120_01 &lt;dbl&gt; | MB468_120_02 &lt;dbl&gt; | MB468_120_03 &lt;dbl&gt; | MB468_720_01 &lt;dbl&gt; | MB468_720_02 &lt;dbl&gt; | MB468_720_03 &lt;dbl&gt; |\n",
       "|---|---|---|---|---|---|---|---|---|---|---|---|---|\n",
       "| C1orf141 |    0 |    0 |    0 |    0 |    0 |    0 |    0 |    0 |    0 |    0 |    0 |    0 |\n",
       "| PKP1 |   48 |   42 |   28 |   20 |   11 |   10 |  234 |  170 |  272 |  646 |  398 |  562 |\n",
       "| RERE | 3487 | 3719 | 2234 | 4534 | 2760 | 1853 | 2525 | 1645 | 2435 | 4331 | 2484 | 4481 |\n",
       "| CSMD2 |    0 |    1 |    2 |    0 |    0 |    0 |    0 |    0 |    0 |    0 |    0 |    0 |\n",
       "| HIVEP3 |  598 |  638 |  350 |  533 |  362 |  208 |  447 |  241 |  446 | 1082 |  523 | 1011 |\n",
       "| TTLL7 |  222 |  250 |  161 |  356 |  252 |  115 |  117 |  116 |  180 |  218 |  127 |  202 |\n",
       "\n"
      ],
      "text/plain": [
       "         MB468_000_01 MB468_000_02 MB468_000_03 MB468_030_01 MB468_030_02\n",
       "C1orf141    0            0            0            0            0        \n",
       "PKP1       48           42           28           20           11        \n",
       "RERE     3487         3719         2234         4534         2760        \n",
       "CSMD2       0            1            2            0            0        \n",
       "HIVEP3    598          638          350          533          362        \n",
       "TTLL7     222          250          161          356          252        \n",
       "         MB468_030_03 MB468_120_01 MB468_120_02 MB468_120_03 MB468_720_01\n",
       "C1orf141    0            0            0            0            0        \n",
       "PKP1       10          234          170          272          646        \n",
       "RERE     1853         2525         1645         2435         4331        \n",
       "CSMD2       0            0            0            0            0        \n",
       "HIVEP3    208          447          241          446         1082        \n",
       "TTLL7     115          117          116          180          218        \n",
       "         MB468_720_02 MB468_720_03\n",
       "C1orf141    0            0        \n",
       "PKP1      398          562        \n",
       "RERE     2484         4481        \n",
       "CSMD2       0            0        \n",
       "HIVEP3    523         1011        \n",
       "TTLL7     127          202        "
      ]
     },
     "metadata": {},
     "output_type": "display_data"
    }
   ],
   "source": [
    "# Some tools generate the estimated counts as real numbers\n",
    "# DESeq 2 allows only integers. We need to convert real numbers to rounded integers.\n",
    "numeric_idx = sapply(counts, mode) == 'numeric'\n",
    "counts[numeric_idx] = round(counts[numeric_idx], 0)\n",
    "head(counts)"
   ]
  },
  {
   "cell_type": "code",
   "execution_count": 28,
   "metadata": {
    "vscode": {
     "languageId": "r"
    }
   },
   "outputs": [
    {
     "data": {
      "text/html": [
       "<style>\n",
       ".list-inline {list-style: none; margin:0; padding: 0}\n",
       ".list-inline>li {display: inline-block}\n",
       ".list-inline>li:not(:last-child)::after {content: \"\\00b7\"; padding: 0 .5ex}\n",
       "</style>\n",
       "<ol class=list-inline><li>'MB468_000_01'</li><li>'MB468_000_02'</li><li>'MB468_000_03'</li><li>'MB468_030_01'</li><li>'MB468_030_02'</li><li>'MB468_030_03'</li><li>'MB468_120_01'</li><li>'MB468_120_02'</li><li>'MB468_120_03'</li><li>'MB468_720_01'</li><li>'MB468_720_02'</li><li>'MB468_720_03'</li></ol>\n"
      ],
      "text/latex": [
       "\\begin{enumerate*}\n",
       "\\item 'MB468\\_000\\_01'\n",
       "\\item 'MB468\\_000\\_02'\n",
       "\\item 'MB468\\_000\\_03'\n",
       "\\item 'MB468\\_030\\_01'\n",
       "\\item 'MB468\\_030\\_02'\n",
       "\\item 'MB468\\_030\\_03'\n",
       "\\item 'MB468\\_120\\_01'\n",
       "\\item 'MB468\\_120\\_02'\n",
       "\\item 'MB468\\_120\\_03'\n",
       "\\item 'MB468\\_720\\_01'\n",
       "\\item 'MB468\\_720\\_02'\n",
       "\\item 'MB468\\_720\\_03'\n",
       "\\end{enumerate*}\n"
      ],
      "text/markdown": [
       "1. 'MB468_000_01'\n",
       "2. 'MB468_000_02'\n",
       "3. 'MB468_000_03'\n",
       "4. 'MB468_030_01'\n",
       "5. 'MB468_030_02'\n",
       "6. 'MB468_030_03'\n",
       "7. 'MB468_120_01'\n",
       "8. 'MB468_120_02'\n",
       "9. 'MB468_120_03'\n",
       "10. 'MB468_720_01'\n",
       "11. 'MB468_720_02'\n",
       "12. 'MB468_720_03'\n",
       "\n",
       "\n"
      ],
      "text/plain": [
       " [1] \"MB468_000_01\" \"MB468_000_02\" \"MB468_000_03\" \"MB468_030_01\" \"MB468_030_02\"\n",
       " [6] \"MB468_030_03\" \"MB468_120_01\" \"MB468_120_02\" \"MB468_120_03\" \"MB468_720_01\"\n",
       "[11] \"MB468_720_02\" \"MB468_720_03\""
      ]
     },
     "metadata": {},
     "output_type": "display_data"
    }
   ],
   "source": [
    "# Build the dataset\n",
    "samples = names(counts)\n",
    "samples"
   ]
  },
  {
   "cell_type": "code",
   "execution_count": 29,
   "metadata": {
    "vscode": {
     "languageId": "r"
    }
   },
   "outputs": [
    {
     "data": {
      "text/html": [
       "<style>\n",
       ".list-inline {list-style: none; margin:0; padding: 0}\n",
       ".list-inline>li {display: inline-block}\n",
       ".list-inline>li:not(:last-child)::after {content: \"\\00b7\"; padding: 0 .5ex}\n",
       "</style>\n",
       "<ol class=list-inline><li>MB468_000</li><li>MB468_000</li><li>MB468_000</li><li>MB468_30</li><li>MB468_30</li><li>MB468_30</li><li>MB468_120</li><li>MB468_120</li><li>MB468_120</li><li>MB468_720</li><li>MB468_720</li><li>MB468_720</li></ol>\n",
       "\n",
       "<details>\n",
       "\t<summary style=display:list-item;cursor:pointer>\n",
       "\t\t<strong>Levels</strong>:\n",
       "\t</summary>\n",
       "\t<style>\n",
       "\t.list-inline {list-style: none; margin:0; padding: 0}\n",
       "\t.list-inline>li {display: inline-block}\n",
       "\t.list-inline>li:not(:last-child)::after {content: \"\\00b7\"; padding: 0 .5ex}\n",
       "\t</style>\n",
       "\t<ol class=list-inline><li>'MB468_000'</li><li>'MB468_120'</li><li>'MB468_30'</li><li>'MB468_720'</li></ol>\n",
       "</details>"
      ],
      "text/latex": [
       "\\begin{enumerate*}\n",
       "\\item MB468\\_000\n",
       "\\item MB468\\_000\n",
       "\\item MB468\\_000\n",
       "\\item MB468\\_30\n",
       "\\item MB468\\_30\n",
       "\\item MB468\\_30\n",
       "\\item MB468\\_120\n",
       "\\item MB468\\_120\n",
       "\\item MB468\\_120\n",
       "\\item MB468\\_720\n",
       "\\item MB468\\_720\n",
       "\\item MB468\\_720\n",
       "\\end{enumerate*}\n",
       "\n",
       "\\emph{Levels}: \\begin{enumerate*}\n",
       "\\item 'MB468\\_000'\n",
       "\\item 'MB468\\_120'\n",
       "\\item 'MB468\\_30'\n",
       "\\item 'MB468\\_720'\n",
       "\\end{enumerate*}\n"
      ],
      "text/markdown": [
       "1. MB468_000\n",
       "2. MB468_000\n",
       "3. MB468_000\n",
       "4. MB468_30\n",
       "5. MB468_30\n",
       "6. MB468_30\n",
       "7. MB468_120\n",
       "8. MB468_120\n",
       "9. MB468_120\n",
       "10. MB468_720\n",
       "11. MB468_720\n",
       "12. MB468_720\n",
       "\n",
       "\n",
       "\n",
       "**Levels**: 1. 'MB468_000'\n",
       "2. 'MB468_120'\n",
       "3. 'MB468_30'\n",
       "4. 'MB468_720'\n",
       "\n",
       "\n"
      ],
      "text/plain": [
       " [1] MB468_000 MB468_000 MB468_000 MB468_30  MB468_30  MB468_30  MB468_120\n",
       " [8] MB468_120 MB468_120 MB468_720 MB468_720 MB468_720\n",
       "Levels: MB468_000 MB468_120 MB468_30 MB468_720"
      ]
     },
     "metadata": {},
     "output_type": "display_data"
    }
   ],
   "source": [
    "condition = factor(c(MB468_000, MB468_30, MB468_120, MB468_720))\n",
    "condition"
   ]
  },
  {
   "cell_type": "code",
   "execution_count": 30,
   "metadata": {
    "vscode": {
     "languageId": "r"
    }
   },
   "outputs": [
    {
     "data": {
      "text/html": [
       "<table class=\"dataframe\">\n",
       "<caption>A data.frame: 12 × 2</caption>\n",
       "<thead>\n",
       "\t<tr><th scope=col>samples</th><th scope=col>condition</th></tr>\n",
       "\t<tr><th scope=col>&lt;chr&gt;</th><th scope=col>&lt;fct&gt;</th></tr>\n",
       "</thead>\n",
       "<tbody>\n",
       "\t<tr><td>MB468_000_01</td><td>MB468_000</td></tr>\n",
       "\t<tr><td>MB468_000_02</td><td>MB468_000</td></tr>\n",
       "\t<tr><td>MB468_000_03</td><td>MB468_000</td></tr>\n",
       "\t<tr><td>MB468_030_01</td><td>MB468_30 </td></tr>\n",
       "\t<tr><td>MB468_030_02</td><td>MB468_30 </td></tr>\n",
       "\t<tr><td>MB468_030_03</td><td>MB468_30 </td></tr>\n",
       "\t<tr><td>MB468_120_01</td><td>MB468_120</td></tr>\n",
       "\t<tr><td>MB468_120_02</td><td>MB468_120</td></tr>\n",
       "\t<tr><td>MB468_120_03</td><td>MB468_120</td></tr>\n",
       "\t<tr><td>MB468_720_01</td><td>MB468_720</td></tr>\n",
       "\t<tr><td>MB468_720_02</td><td>MB468_720</td></tr>\n",
       "\t<tr><td>MB468_720_03</td><td>MB468_720</td></tr>\n",
       "</tbody>\n",
       "</table>\n"
      ],
      "text/latex": [
       "A data.frame: 12 × 2\n",
       "\\begin{tabular}{ll}\n",
       " samples & condition\\\\\n",
       " <chr> & <fct>\\\\\n",
       "\\hline\n",
       "\t MB468\\_000\\_01 & MB468\\_000\\\\\n",
       "\t MB468\\_000\\_02 & MB468\\_000\\\\\n",
       "\t MB468\\_000\\_03 & MB468\\_000\\\\\n",
       "\t MB468\\_030\\_01 & MB468\\_30 \\\\\n",
       "\t MB468\\_030\\_02 & MB468\\_30 \\\\\n",
       "\t MB468\\_030\\_03 & MB468\\_30 \\\\\n",
       "\t MB468\\_120\\_01 & MB468\\_120\\\\\n",
       "\t MB468\\_120\\_02 & MB468\\_120\\\\\n",
       "\t MB468\\_120\\_03 & MB468\\_120\\\\\n",
       "\t MB468\\_720\\_01 & MB468\\_720\\\\\n",
       "\t MB468\\_720\\_02 & MB468\\_720\\\\\n",
       "\t MB468\\_720\\_03 & MB468\\_720\\\\\n",
       "\\end{tabular}\n"
      ],
      "text/markdown": [
       "\n",
       "A data.frame: 12 × 2\n",
       "\n",
       "| samples &lt;chr&gt; | condition &lt;fct&gt; |\n",
       "|---|---|\n",
       "| MB468_000_01 | MB468_000 |\n",
       "| MB468_000_02 | MB468_000 |\n",
       "| MB468_000_03 | MB468_000 |\n",
       "| MB468_030_01 | MB468_30  |\n",
       "| MB468_030_02 | MB468_30  |\n",
       "| MB468_030_03 | MB468_30  |\n",
       "| MB468_120_01 | MB468_120 |\n",
       "| MB468_120_02 | MB468_120 |\n",
       "| MB468_120_03 | MB468_120 |\n",
       "| MB468_720_01 | MB468_720 |\n",
       "| MB468_720_02 | MB468_720 |\n",
       "| MB468_720_03 | MB468_720 |\n",
       "\n"
      ],
      "text/plain": [
       "   samples      condition\n",
       "1  MB468_000_01 MB468_000\n",
       "2  MB468_000_02 MB468_000\n",
       "3  MB468_000_03 MB468_000\n",
       "4  MB468_030_01 MB468_30 \n",
       "5  MB468_030_02 MB468_30 \n",
       "6  MB468_030_03 MB468_30 \n",
       "7  MB468_120_01 MB468_120\n",
       "8  MB468_120_02 MB468_120\n",
       "9  MB468_120_03 MB468_120\n",
       "10 MB468_720_01 MB468_720\n",
       "11 MB468_720_02 MB468_720\n",
       "12 MB468_720_03 MB468_720"
      ]
     },
     "metadata": {},
     "output_type": "display_data"
    }
   ],
   "source": [
    "colData = data.frame(samples=samples, condition=condition)\n",
    "colData"
   ]
  },
  {
   "cell_type": "code",
   "execution_count": 31,
   "metadata": {
    "vscode": {
     "languageId": "r"
    }
   },
   "outputs": [
    {
     "name": "stderr",
     "output_type": "stream",
     "text": [
      "converting counts to integer mode\n",
      "\n"
     ]
    }
   ],
   "source": [
    "# Create DESEq2 dataset.\n",
    "dds = DESeqDataSetFromMatrix(countData=counts, colData=colData, design = ~condition)"
   ]
  },
  {
   "cell_type": "code",
   "execution_count": 32,
   "metadata": {
    "vscode": {
     "languageId": "r"
    }
   },
   "outputs": [
    {
     "name": "stderr",
     "output_type": "stream",
     "text": [
      "estimating size factors\n",
      "\n",
      "estimating dispersions\n",
      "\n",
      "gene-wise dispersion estimates\n",
      "\n",
      "mean-dispersion relationship\n",
      "\n",
      "final dispersion estimates\n",
      "\n",
      "fitting model and testing\n",
      "\n"
     ]
    }
   ],
   "source": [
    "# Run deseq2.\n",
    "dds = DESeq(dds)"
   ]
  },
  {
   "cell_type": "code",
   "execution_count": 33,
   "metadata": {
    "vscode": {
     "languageId": "r"
    }
   },
   "outputs": [],
   "source": [
    "# Extract the DESeq2 results.\n",
    "# res = results(dds)\n",
    "res1 = results(dds, contrast = c(\"condition\", \"MB468_30\", \"MB468_000\"))\n",
    "res2 = results(dds, contrast = c(\"condition\", \"MB468_120\", \"MB468_000\"))\n",
    "res3 = results(dds, contrast = c(\"condition\", \"MB468_720\", \"MB468_000\"))"
   ]
  },
  {
   "cell_type": "code",
   "execution_count": 34,
   "metadata": {
    "vscode": {
     "languageId": "r"
    }
   },
   "outputs": [],
   "source": [
    "# Turn the DESeq2 results into data frames.\n",
    "# data = data.frame(res)\n",
    "data1 = data.frame(res1)\n",
    "data2 = data.frame(res2)\n",
    "data3 = data.frame(res3)"
   ]
  },
  {
   "cell_type": "code",
   "execution_count": 35,
   "metadata": {
    "vscode": {
     "languageId": "r"
    }
   },
   "outputs": [
    {
     "data": {
      "text/html": [
       "<table class=\"dataframe\">\n",
       "<caption>A data.frame: 6 × 6</caption>\n",
       "<thead>\n",
       "\t<tr><th></th><th scope=col>baseMean</th><th scope=col>log2FoldChange</th><th scope=col>lfcSE</th><th scope=col>stat</th><th scope=col>PValue</th><th scope=col>FDR</th></tr>\n",
       "\t<tr><th></th><th scope=col>&lt;dbl&gt;</th><th scope=col>&lt;dbl&gt;</th><th scope=col>&lt;dbl&gt;</th><th scope=col>&lt;dbl&gt;</th><th scope=col>&lt;dbl&gt;</th><th scope=col>&lt;dbl&gt;</th></tr>\n",
       "</thead>\n",
       "<tbody>\n",
       "\t<tr><th scope=row>C1orf141</th><td>   0.0000000</td><td>        NA</td><td>        NA</td><td>        NA</td><td>          NA</td><td>          NA</td></tr>\n",
       "\t<tr><th scope=row>PKP1</th><td> 180.5116956</td><td>-1.3777156</td><td>0.28498192</td><td>-4.8343965</td><td>1.335502e-06</td><td>1.122907e-05</td></tr>\n",
       "\t<tr><th scope=row>RERE</th><td>2872.0008215</td><td> 0.1036148</td><td>0.05634364</td><td> 1.8389788</td><td>6.591831e-02</td><td>1.619187e-01</td></tr>\n",
       "\t<tr><th scope=row>CSMD2</th><td>   0.2815645</td><td>-2.4720352</td><td>3.95762771</td><td>-0.6246255</td><td>5.322169e-01</td><td>          NA</td></tr>\n",
       "\t<tr><th scope=row>HIVEP3</th><td> 483.1932856</td><td>-0.3714033</td><td>0.09730493</td><td>-3.8169011</td><td>1.351383e-04</td><td>7.927503e-04</td></tr>\n",
       "\t<tr><th scope=row>TTLL7</th><td> 185.8168583</td><td> 0.3055194</td><td>0.14298989</td><td> 2.1366506</td><td>3.262642e-02</td><td>9.255495e-02</td></tr>\n",
       "</tbody>\n",
       "</table>\n"
      ],
      "text/latex": [
       "A data.frame: 6 × 6\n",
       "\\begin{tabular}{r|llllll}\n",
       "  & baseMean & log2FoldChange & lfcSE & stat & PValue & FDR\\\\\n",
       "  & <dbl> & <dbl> & <dbl> & <dbl> & <dbl> & <dbl>\\\\\n",
       "\\hline\n",
       "\tC1orf141 &    0.0000000 &         NA &         NA &         NA &           NA &           NA\\\\\n",
       "\tPKP1 &  180.5116956 & -1.3777156 & 0.28498192 & -4.8343965 & 1.335502e-06 & 1.122907e-05\\\\\n",
       "\tRERE & 2872.0008215 &  0.1036148 & 0.05634364 &  1.8389788 & 6.591831e-02 & 1.619187e-01\\\\\n",
       "\tCSMD2 &    0.2815645 & -2.4720352 & 3.95762771 & -0.6246255 & 5.322169e-01 &           NA\\\\\n",
       "\tHIVEP3 &  483.1932856 & -0.3714033 & 0.09730493 & -3.8169011 & 1.351383e-04 & 7.927503e-04\\\\\n",
       "\tTTLL7 &  185.8168583 &  0.3055194 & 0.14298989 &  2.1366506 & 3.262642e-02 & 9.255495e-02\\\\\n",
       "\\end{tabular}\n"
      ],
      "text/markdown": [
       "\n",
       "A data.frame: 6 × 6\n",
       "\n",
       "| <!--/--> | baseMean &lt;dbl&gt; | log2FoldChange &lt;dbl&gt; | lfcSE &lt;dbl&gt; | stat &lt;dbl&gt; | PValue &lt;dbl&gt; | FDR &lt;dbl&gt; |\n",
       "|---|---|---|---|---|---|---|\n",
       "| C1orf141 |    0.0000000 |         NA |         NA |         NA |           NA |           NA |\n",
       "| PKP1 |  180.5116956 | -1.3777156 | 0.28498192 | -4.8343965 | 1.335502e-06 | 1.122907e-05 |\n",
       "| RERE | 2872.0008215 |  0.1036148 | 0.05634364 |  1.8389788 | 6.591831e-02 | 1.619187e-01 |\n",
       "| CSMD2 |    0.2815645 | -2.4720352 | 3.95762771 | -0.6246255 | 5.322169e-01 |           NA |\n",
       "| HIVEP3 |  483.1932856 | -0.3714033 | 0.09730493 | -3.8169011 | 1.351383e-04 | 7.927503e-04 |\n",
       "| TTLL7 |  185.8168583 |  0.3055194 | 0.14298989 |  2.1366506 | 3.262642e-02 | 9.255495e-02 |\n",
       "\n"
      ],
      "text/plain": [
       "         baseMean     log2FoldChange lfcSE      stat       PValue      \n",
       "C1orf141    0.0000000         NA             NA         NA           NA\n",
       "PKP1      180.5116956 -1.3777156     0.28498192 -4.8343965 1.335502e-06\n",
       "RERE     2872.0008215  0.1036148     0.05634364  1.8389788 6.591831e-02\n",
       "CSMD2       0.2815645 -2.4720352     3.95762771 -0.6246255 5.322169e-01\n",
       "HIVEP3    483.1932856 -0.3714033     0.09730493 -3.8169011 1.351383e-04\n",
       "TTLL7     185.8168583  0.3055194     0.14298989  2.1366506 3.262642e-02\n",
       "         FDR         \n",
       "C1orf141           NA\n",
       "PKP1     1.122907e-05\n",
       "RERE     1.619187e-01\n",
       "CSMD2              NA\n",
       "HIVEP3   7.927503e-04\n",
       "TTLL7    9.255495e-02"
      ]
     },
     "metadata": {},
     "output_type": "display_data"
    }
   ],
   "source": [
    "# Rename columns for what they are.\n",
    "# names(data)[names(data)==\"pvalue\"] <-\"PValue\"\n",
    "# names(data)[names(data)==\"padj\"] <-\"FDR\"\n",
    "names(data1)[names(data1)==\"pvalue\"] <-\"PValue\"\n",
    "names(data1)[names(data1)==\"padj\"] <-\"FDR\"\n",
    "\n",
    "names(data2)[names(data2)==\"pvalue\"] <-\"PValue\"\n",
    "names(data2)[names(data2)==\"padj\"] <-\"FDR\"\n",
    "\n",
    "names(data3)[names(data3)==\"pvalue\"] <-\"PValue\"\n",
    "names(data3)[names(data3)==\"padj\"] <-\"FDR\"\n",
    "\n",
    "head(data1)"
   ]
  },
  {
   "cell_type": "code",
   "execution_count": 36,
   "metadata": {
    "vscode": {
     "languageId": "r"
    }
   },
   "outputs": [
    {
     "data": {
      "text/html": [
       "<table class=\"dataframe\">\n",
       "<caption>A data.frame: 6 × 8</caption>\n",
       "<thead>\n",
       "\t<tr><th></th><th scope=col>baseMean</th><th scope=col>log2FoldChange</th><th scope=col>lfcSE</th><th scope=col>stat</th><th scope=col>PValue</th><th scope=col>FDR</th><th scope=col>foldChange</th><th scope=col>PAdj</th></tr>\n",
       "\t<tr><th></th><th scope=col>&lt;dbl&gt;</th><th scope=col>&lt;dbl&gt;</th><th scope=col>&lt;dbl&gt;</th><th scope=col>&lt;dbl&gt;</th><th scope=col>&lt;dbl&gt;</th><th scope=col>&lt;dbl&gt;</th><th scope=col>&lt;dbl&gt;</th><th scope=col>&lt;dbl&gt;</th></tr>\n",
       "</thead>\n",
       "<tbody>\n",
       "\t<tr><th scope=row>C1orf141</th><td>   0.0000000</td><td>        NA</td><td>        NA</td><td>        NA</td><td>          NA</td><td>          NA</td><td>       NA</td><td>        NA</td></tr>\n",
       "\t<tr><th scope=row>PKP1</th><td> 180.5116956</td><td>-1.3777156</td><td>0.28498192</td><td>-4.8343965</td><td>1.335502e-06</td><td>1.122907e-05</td><td>0.3848277</td><td>0.02517821</td></tr>\n",
       "\t<tr><th scope=row>RERE</th><td>2872.0008215</td><td> 0.1036148</td><td>0.05634364</td><td> 1.8389788</td><td>6.591831e-02</td><td>1.619187e-01</td><td>1.0744622</td><td>1.00000000</td></tr>\n",
       "\t<tr><th scope=row>CSMD2</th><td>   0.2815645</td><td>-2.4720352</td><td>3.95762771</td><td>-0.6246255</td><td>5.322169e-01</td><td>          NA</td><td>0.1802367</td><td>1.00000000</td></tr>\n",
       "\t<tr><th scope=row>HIVEP3</th><td> 483.1932856</td><td>-0.3714033</td><td>0.09730493</td><td>-3.8169011</td><td>1.351383e-04</td><td>7.927503e-04</td><td>0.7730302</td><td>1.00000000</td></tr>\n",
       "\t<tr><th scope=row>TTLL7</th><td> 185.8168583</td><td> 0.3055194</td><td>0.14298989</td><td> 2.1366506</td><td>3.262642e-02</td><td>9.255495e-02</td><td>1.2358635</td><td>1.00000000</td></tr>\n",
       "</tbody>\n",
       "</table>\n"
      ],
      "text/latex": [
       "A data.frame: 6 × 8\n",
       "\\begin{tabular}{r|llllllll}\n",
       "  & baseMean & log2FoldChange & lfcSE & stat & PValue & FDR & foldChange & PAdj\\\\\n",
       "  & <dbl> & <dbl> & <dbl> & <dbl> & <dbl> & <dbl> & <dbl> & <dbl>\\\\\n",
       "\\hline\n",
       "\tC1orf141 &    0.0000000 &         NA &         NA &         NA &           NA &           NA &        NA &         NA\\\\\n",
       "\tPKP1 &  180.5116956 & -1.3777156 & 0.28498192 & -4.8343965 & 1.335502e-06 & 1.122907e-05 & 0.3848277 & 0.02517821\\\\\n",
       "\tRERE & 2872.0008215 &  0.1036148 & 0.05634364 &  1.8389788 & 6.591831e-02 & 1.619187e-01 & 1.0744622 & 1.00000000\\\\\n",
       "\tCSMD2 &    0.2815645 & -2.4720352 & 3.95762771 & -0.6246255 & 5.322169e-01 &           NA & 0.1802367 & 1.00000000\\\\\n",
       "\tHIVEP3 &  483.1932856 & -0.3714033 & 0.09730493 & -3.8169011 & 1.351383e-04 & 7.927503e-04 & 0.7730302 & 1.00000000\\\\\n",
       "\tTTLL7 &  185.8168583 &  0.3055194 & 0.14298989 &  2.1366506 & 3.262642e-02 & 9.255495e-02 & 1.2358635 & 1.00000000\\\\\n",
       "\\end{tabular}\n"
      ],
      "text/markdown": [
       "\n",
       "A data.frame: 6 × 8\n",
       "\n",
       "| <!--/--> | baseMean &lt;dbl&gt; | log2FoldChange &lt;dbl&gt; | lfcSE &lt;dbl&gt; | stat &lt;dbl&gt; | PValue &lt;dbl&gt; | FDR &lt;dbl&gt; | foldChange &lt;dbl&gt; | PAdj &lt;dbl&gt; |\n",
       "|---|---|---|---|---|---|---|---|---|\n",
       "| C1orf141 |    0.0000000 |         NA |         NA |         NA |           NA |           NA |        NA |         NA |\n",
       "| PKP1 |  180.5116956 | -1.3777156 | 0.28498192 | -4.8343965 | 1.335502e-06 | 1.122907e-05 | 0.3848277 | 0.02517821 |\n",
       "| RERE | 2872.0008215 |  0.1036148 | 0.05634364 |  1.8389788 | 6.591831e-02 | 1.619187e-01 | 1.0744622 | 1.00000000 |\n",
       "| CSMD2 |    0.2815645 | -2.4720352 | 3.95762771 | -0.6246255 | 5.322169e-01 |           NA | 0.1802367 | 1.00000000 |\n",
       "| HIVEP3 |  483.1932856 | -0.3714033 | 0.09730493 | -3.8169011 | 1.351383e-04 | 7.927503e-04 | 0.7730302 | 1.00000000 |\n",
       "| TTLL7 |  185.8168583 |  0.3055194 | 0.14298989 |  2.1366506 | 3.262642e-02 | 9.255495e-02 | 1.2358635 | 1.00000000 |\n",
       "\n"
      ],
      "text/plain": [
       "         baseMean     log2FoldChange lfcSE      stat       PValue      \n",
       "C1orf141    0.0000000         NA             NA         NA           NA\n",
       "PKP1      180.5116956 -1.3777156     0.28498192 -4.8343965 1.335502e-06\n",
       "RERE     2872.0008215  0.1036148     0.05634364  1.8389788 6.591831e-02\n",
       "CSMD2       0.2815645 -2.4720352     3.95762771 -0.6246255 5.322169e-01\n",
       "HIVEP3    483.1932856 -0.3714033     0.09730493 -3.8169011 1.351383e-04\n",
       "TTLL7     185.8168583  0.3055194     0.14298989  2.1366506 3.262642e-02\n",
       "         FDR          foldChange PAdj      \n",
       "C1orf141           NA        NA          NA\n",
       "PKP1     1.122907e-05 0.3848277  0.02517821\n",
       "RERE     1.619187e-01 1.0744622  1.00000000\n",
       "CSMD2              NA 0.1802367  1.00000000\n",
       "HIVEP3   7.927503e-04 0.7730302  1.00000000\n",
       "TTLL7    9.255495e-02 1.2358635  1.00000000"
      ]
     },
     "metadata": {},
     "output_type": "display_data"
    }
   ],
   "source": [
    "data1$foldChange = 2 ^ data1$log2FoldChange\n",
    "data1$PAdj = p.adjust(data1$PValue, method=\"hochberg\")\n",
    "\n",
    "\n",
    "data2$foldChange = 2 ^ data2$log2FoldChange\n",
    "data2$PAdj = p.adjust(data2$PValue, method=\"hochberg\")\n",
    "\n",
    "\n",
    "data3$foldChange = 2 ^ data3$log2FoldChange\n",
    "data3$PAdj = p.adjust(data3$PValue, method=\"hochberg\")\n",
    "head(data1)"
   ]
  },
  {
   "cell_type": "code",
   "execution_count": 37,
   "metadata": {
    "vscode": {
     "languageId": "r"
    }
   },
   "outputs": [
    {
     "data": {
      "text/html": [
       "<table class=\"dataframe\">\n",
       "<caption>A data.frame: 6 × 9</caption>\n",
       "<thead>\n",
       "\t<tr><th></th><th scope=col>baseMean</th><th scope=col>log2FoldChange</th><th scope=col>lfcSE</th><th scope=col>stat</th><th scope=col>PValue</th><th scope=col>FDR</th><th scope=col>foldChange</th><th scope=col>PAdj</th><th scope=col>falsePos</th></tr>\n",
       "\t<tr><th></th><th scope=col>&lt;dbl&gt;</th><th scope=col>&lt;dbl&gt;</th><th scope=col>&lt;dbl&gt;</th><th scope=col>&lt;dbl&gt;</th><th scope=col>&lt;dbl&gt;</th><th scope=col>&lt;dbl&gt;</th><th scope=col>&lt;dbl&gt;</th><th scope=col>&lt;dbl&gt;</th><th scope=col>&lt;dbl&gt;</th></tr>\n",
       "</thead>\n",
       "<tbody>\n",
       "\t<tr><th scope=row>C1orf141</th><td>   0.0000000</td><td>        NA</td><td>        NA</td><td>        NA</td><td>          NA</td><td>          NA</td><td>       NA</td><td>        NA</td><td>          NA</td></tr>\n",
       "\t<tr><th scope=row>PKP1</th><td> 180.5116956</td><td>-1.3777156</td><td>0.28498192</td><td>-4.8343965</td><td>1.335502e-06</td><td>1.122907e-05</td><td>0.3848277</td><td>0.02517821</td><td>2.245814e-05</td></tr>\n",
       "\t<tr><th scope=row>RERE</th><td>2872.0008215</td><td> 0.1036148</td><td>0.05634364</td><td> 1.8389788</td><td>6.591831e-02</td><td>1.619187e-01</td><td>1.0744622</td><td>1.00000000</td><td>4.857562e-01</td></tr>\n",
       "\t<tr><th scope=row>CSMD2</th><td>   0.2815645</td><td>-2.4720352</td><td>3.95762771</td><td>-0.6246255</td><td>5.322169e-01</td><td>          NA</td><td>0.1802367</td><td>1.00000000</td><td>          NA</td></tr>\n",
       "\t<tr><th scope=row>HIVEP3</th><td> 483.1932856</td><td>-0.3714033</td><td>0.09730493</td><td>-3.8169011</td><td>1.351383e-04</td><td>7.927503e-04</td><td>0.7730302</td><td>1.00000000</td><td>3.963752e-03</td></tr>\n",
       "\t<tr><th scope=row>TTLL7</th><td> 185.8168583</td><td> 0.3055194</td><td>0.14298989</td><td> 2.1366506</td><td>3.262642e-02</td><td>9.255495e-02</td><td>1.2358635</td><td>1.00000000</td><td>5.553297e-01</td></tr>\n",
       "</tbody>\n",
       "</table>\n"
      ],
      "text/latex": [
       "A data.frame: 6 × 9\n",
       "\\begin{tabular}{r|lllllllll}\n",
       "  & baseMean & log2FoldChange & lfcSE & stat & PValue & FDR & foldChange & PAdj & falsePos\\\\\n",
       "  & <dbl> & <dbl> & <dbl> & <dbl> & <dbl> & <dbl> & <dbl> & <dbl> & <dbl>\\\\\n",
       "\\hline\n",
       "\tC1orf141 &    0.0000000 &         NA &         NA &         NA &           NA &           NA &        NA &         NA &           NA\\\\\n",
       "\tPKP1 &  180.5116956 & -1.3777156 & 0.28498192 & -4.8343965 & 1.335502e-06 & 1.122907e-05 & 0.3848277 & 0.02517821 & 2.245814e-05\\\\\n",
       "\tRERE & 2872.0008215 &  0.1036148 & 0.05634364 &  1.8389788 & 6.591831e-02 & 1.619187e-01 & 1.0744622 & 1.00000000 & 4.857562e-01\\\\\n",
       "\tCSMD2 &    0.2815645 & -2.4720352 & 3.95762771 & -0.6246255 & 5.322169e-01 &           NA & 0.1802367 & 1.00000000 &           NA\\\\\n",
       "\tHIVEP3 &  483.1932856 & -0.3714033 & 0.09730493 & -3.8169011 & 1.351383e-04 & 7.927503e-04 & 0.7730302 & 1.00000000 & 3.963752e-03\\\\\n",
       "\tTTLL7 &  185.8168583 &  0.3055194 & 0.14298989 &  2.1366506 & 3.262642e-02 & 9.255495e-02 & 1.2358635 & 1.00000000 & 5.553297e-01\\\\\n",
       "\\end{tabular}\n"
      ],
      "text/markdown": [
       "\n",
       "A data.frame: 6 × 9\n",
       "\n",
       "| <!--/--> | baseMean &lt;dbl&gt; | log2FoldChange &lt;dbl&gt; | lfcSE &lt;dbl&gt; | stat &lt;dbl&gt; | PValue &lt;dbl&gt; | FDR &lt;dbl&gt; | foldChange &lt;dbl&gt; | PAdj &lt;dbl&gt; | falsePos &lt;dbl&gt; |\n",
       "|---|---|---|---|---|---|---|---|---|---|\n",
       "| C1orf141 |    0.0000000 |         NA |         NA |         NA |           NA |           NA |        NA |         NA |           NA |\n",
       "| PKP1 |  180.5116956 | -1.3777156 | 0.28498192 | -4.8343965 | 1.335502e-06 | 1.122907e-05 | 0.3848277 | 0.02517821 | 2.245814e-05 |\n",
       "| RERE | 2872.0008215 |  0.1036148 | 0.05634364 |  1.8389788 | 6.591831e-02 | 1.619187e-01 | 1.0744622 | 1.00000000 | 4.857562e-01 |\n",
       "| CSMD2 |    0.2815645 | -2.4720352 | 3.95762771 | -0.6246255 | 5.322169e-01 |           NA | 0.1802367 | 1.00000000 |           NA |\n",
       "| HIVEP3 |  483.1932856 | -0.3714033 | 0.09730493 | -3.8169011 | 1.351383e-04 | 7.927503e-04 | 0.7730302 | 1.00000000 | 3.963752e-03 |\n",
       "| TTLL7 |  185.8168583 |  0.3055194 | 0.14298989 |  2.1366506 | 3.262642e-02 | 9.255495e-02 | 1.2358635 | 1.00000000 | 5.553297e-01 |\n",
       "\n"
      ],
      "text/plain": [
       "         baseMean     log2FoldChange lfcSE      stat       PValue      \n",
       "C1orf141    0.0000000         NA             NA         NA           NA\n",
       "PKP1      180.5116956 -1.3777156     0.28498192 -4.8343965 1.335502e-06\n",
       "RERE     2872.0008215  0.1036148     0.05634364  1.8389788 6.591831e-02\n",
       "CSMD2       0.2815645 -2.4720352     3.95762771 -0.6246255 5.322169e-01\n",
       "HIVEP3    483.1932856 -0.3714033     0.09730493 -3.8169011 1.351383e-04\n",
       "TTLL7     185.8168583  0.3055194     0.14298989  2.1366506 3.262642e-02\n",
       "         FDR          foldChange PAdj       falsePos    \n",
       "C1orf141           NA        NA          NA           NA\n",
       "PKP1     1.122907e-05 0.3848277  0.02517821 2.245814e-05\n",
       "RERE     1.619187e-01 1.0744622  1.00000000 4.857562e-01\n",
       "CSMD2              NA 0.1802367  1.00000000           NA\n",
       "HIVEP3   7.927503e-04 0.7730302  1.00000000 3.963752e-03\n",
       "TTLL7    9.255495e-02 1.2358635  1.00000000 5.553297e-01"
      ]
     },
     "metadata": {},
     "output_type": "display_data"
    }
   ],
   "source": [
    "# Compute the false discovery counts on the sorted table.\n",
    "#data$falsePos = 1:nrow(data) * data$FDR\n",
    "data1$falsePos = 1:nrow(data1) * data1$FDR\n",
    "\n",
    "data2$falsePos = 1:nrow(data2) * data2$FDR\n",
    "\n",
    "data3$falsePos = 1:nrow(data3) * data3$FDR\n",
    "head(data1)"
   ]
  },
  {
   "cell_type": "code",
   "execution_count": 38,
   "metadata": {
    "vscode": {
     "languageId": "r"
    }
   },
   "outputs": [
    {
     "data": {
      "text/html": [
       "<table class=\"dataframe\">\n",
       "<caption>A data.frame: 6 × 9</caption>\n",
       "<thead>\n",
       "\t<tr><th></th><th scope=col>baseMean</th><th scope=col>foldChange</th><th scope=col>log2FoldChange</th><th scope=col>lfcSE</th><th scope=col>stat</th><th scope=col>PValue</th><th scope=col>PAdj</th><th scope=col>FDR</th><th scope=col>falsePos</th></tr>\n",
       "\t<tr><th></th><th scope=col>&lt;dbl&gt;</th><th scope=col>&lt;dbl&gt;</th><th scope=col>&lt;dbl&gt;</th><th scope=col>&lt;dbl&gt;</th><th scope=col>&lt;dbl&gt;</th><th scope=col>&lt;dbl&gt;</th><th scope=col>&lt;dbl&gt;</th><th scope=col>&lt;dbl&gt;</th><th scope=col>&lt;dbl&gt;</th></tr>\n",
       "</thead>\n",
       "<tbody>\n",
       "\t<tr><th scope=row>C1orf141</th><td>   0.0000000</td><td>       NA</td><td>        NA</td><td>        NA</td><td>        NA</td><td>          NA</td><td>        NA</td><td>          NA</td><td>          NA</td></tr>\n",
       "\t<tr><th scope=row>PKP1</th><td> 180.5116956</td><td>0.3848277</td><td>-1.3777156</td><td>0.28498192</td><td>-4.8343965</td><td>1.335502e-06</td><td>0.02517821</td><td>1.122907e-05</td><td>2.245814e-05</td></tr>\n",
       "\t<tr><th scope=row>RERE</th><td>2872.0008215</td><td>1.0744622</td><td> 0.1036148</td><td>0.05634364</td><td> 1.8389788</td><td>6.591831e-02</td><td>1.00000000</td><td>1.619187e-01</td><td>4.857562e-01</td></tr>\n",
       "\t<tr><th scope=row>CSMD2</th><td>   0.2815645</td><td>0.1802367</td><td>-2.4720352</td><td>3.95762771</td><td>-0.6246255</td><td>5.322169e-01</td><td>1.00000000</td><td>          NA</td><td>          NA</td></tr>\n",
       "\t<tr><th scope=row>HIVEP3</th><td> 483.1932856</td><td>0.7730302</td><td>-0.3714033</td><td>0.09730493</td><td>-3.8169011</td><td>1.351383e-04</td><td>1.00000000</td><td>7.927503e-04</td><td>3.963752e-03</td></tr>\n",
       "\t<tr><th scope=row>TTLL7</th><td> 185.8168583</td><td>1.2358635</td><td> 0.3055194</td><td>0.14298989</td><td> 2.1366506</td><td>3.262642e-02</td><td>1.00000000</td><td>9.255495e-02</td><td>5.553297e-01</td></tr>\n",
       "</tbody>\n",
       "</table>\n"
      ],
      "text/latex": [
       "A data.frame: 6 × 9\n",
       "\\begin{tabular}{r|lllllllll}\n",
       "  & baseMean & foldChange & log2FoldChange & lfcSE & stat & PValue & PAdj & FDR & falsePos\\\\\n",
       "  & <dbl> & <dbl> & <dbl> & <dbl> & <dbl> & <dbl> & <dbl> & <dbl> & <dbl>\\\\\n",
       "\\hline\n",
       "\tC1orf141 &    0.0000000 &        NA &         NA &         NA &         NA &           NA &         NA &           NA &           NA\\\\\n",
       "\tPKP1 &  180.5116956 & 0.3848277 & -1.3777156 & 0.28498192 & -4.8343965 & 1.335502e-06 & 0.02517821 & 1.122907e-05 & 2.245814e-05\\\\\n",
       "\tRERE & 2872.0008215 & 1.0744622 &  0.1036148 & 0.05634364 &  1.8389788 & 6.591831e-02 & 1.00000000 & 1.619187e-01 & 4.857562e-01\\\\\n",
       "\tCSMD2 &    0.2815645 & 0.1802367 & -2.4720352 & 3.95762771 & -0.6246255 & 5.322169e-01 & 1.00000000 &           NA &           NA\\\\\n",
       "\tHIVEP3 &  483.1932856 & 0.7730302 & -0.3714033 & 0.09730493 & -3.8169011 & 1.351383e-04 & 1.00000000 & 7.927503e-04 & 3.963752e-03\\\\\n",
       "\tTTLL7 &  185.8168583 & 1.2358635 &  0.3055194 & 0.14298989 &  2.1366506 & 3.262642e-02 & 1.00000000 & 9.255495e-02 & 5.553297e-01\\\\\n",
       "\\end{tabular}\n"
      ],
      "text/markdown": [
       "\n",
       "A data.frame: 6 × 9\n",
       "\n",
       "| <!--/--> | baseMean &lt;dbl&gt; | foldChange &lt;dbl&gt; | log2FoldChange &lt;dbl&gt; | lfcSE &lt;dbl&gt; | stat &lt;dbl&gt; | PValue &lt;dbl&gt; | PAdj &lt;dbl&gt; | FDR &lt;dbl&gt; | falsePos &lt;dbl&gt; |\n",
       "|---|---|---|---|---|---|---|---|---|---|\n",
       "| C1orf141 |    0.0000000 |        NA |         NA |         NA |         NA |           NA |         NA |           NA |           NA |\n",
       "| PKP1 |  180.5116956 | 0.3848277 | -1.3777156 | 0.28498192 | -4.8343965 | 1.335502e-06 | 0.02517821 | 1.122907e-05 | 2.245814e-05 |\n",
       "| RERE | 2872.0008215 | 1.0744622 |  0.1036148 | 0.05634364 |  1.8389788 | 6.591831e-02 | 1.00000000 | 1.619187e-01 | 4.857562e-01 |\n",
       "| CSMD2 |    0.2815645 | 0.1802367 | -2.4720352 | 3.95762771 | -0.6246255 | 5.322169e-01 | 1.00000000 |           NA |           NA |\n",
       "| HIVEP3 |  483.1932856 | 0.7730302 | -0.3714033 | 0.09730493 | -3.8169011 | 1.351383e-04 | 1.00000000 | 7.927503e-04 | 3.963752e-03 |\n",
       "| TTLL7 |  185.8168583 | 1.2358635 |  0.3055194 | 0.14298989 |  2.1366506 | 3.262642e-02 | 1.00000000 | 9.255495e-02 | 5.553297e-01 |\n",
       "\n"
      ],
      "text/plain": [
       "         baseMean     foldChange log2FoldChange lfcSE      stat      \n",
       "C1orf141    0.0000000        NA          NA             NA         NA\n",
       "PKP1      180.5116956 0.3848277  -1.3777156     0.28498192 -4.8343965\n",
       "RERE     2872.0008215 1.0744622   0.1036148     0.05634364  1.8389788\n",
       "CSMD2       0.2815645 0.1802367  -2.4720352     3.95762771 -0.6246255\n",
       "HIVEP3    483.1932856 0.7730302  -0.3714033     0.09730493 -3.8169011\n",
       "TTLL7     185.8168583 1.2358635   0.3055194     0.14298989  2.1366506\n",
       "         PValue       PAdj       FDR          falsePos    \n",
       "C1orf141           NA         NA           NA           NA\n",
       "PKP1     1.335502e-06 0.02517821 1.122907e-05 2.245814e-05\n",
       "RERE     6.591831e-02 1.00000000 1.619187e-01 4.857562e-01\n",
       "CSMD2    5.322169e-01 1.00000000           NA           NA\n",
       "HIVEP3   1.351383e-04 1.00000000 7.927503e-04 3.963752e-03\n",
       "TTLL7    3.262642e-02 1.00000000 9.255495e-02 5.553297e-01"
      ]
     },
     "metadata": {},
     "output_type": "display_data"
    }
   ],
   "source": [
    "# Rearrange the columns into the same order as other methods do.\n",
    "#data = data[c(1,7,8,9,2,3,4,5, 10, 6, 11)]\n",
    "data1 = data1[c(1,7,2,3,4,5, 8, 6, 9)]\n",
    "\n",
    "data2 = data2[c(1,7,2,3,4,5, 8, 6, 9)]\n",
    "\n",
    "data3 = data3[c(1,7,2,3,4,5, 8, 6, 9)]\n",
    "head(data1)"
   ]
  },
  {
   "cell_type": "code",
   "execution_count": 39,
   "metadata": {
    "vscode": {
     "languageId": "r"
    }
   },
   "outputs": [
    {
     "data": {
      "text/html": [
       "<table class=\"dataframe\">\n",
       "<caption>A matrix: 6 × 12 of type dbl</caption>\n",
       "<thead>\n",
       "\t<tr><th></th><th scope=col>MB468_000_01</th><th scope=col>MB468_000_02</th><th scope=col>MB468_000_03</th><th scope=col>MB468_030_01</th><th scope=col>MB468_030_02</th><th scope=col>MB468_030_03</th><th scope=col>MB468_120_01</th><th scope=col>MB468_120_02</th><th scope=col>MB468_120_03</th><th scope=col>MB468_720_01</th><th scope=col>MB468_720_02</th><th scope=col>MB468_720_03</th></tr>\n",
       "</thead>\n",
       "<tbody>\n",
       "\t<tr><th scope=row>C1orf141</th><td>   0.00000</td><td>   0.0000000</td><td>   0.000000</td><td>   0.0000</td><td>   0.00000</td><td>   0.00000</td><td>   0.0000</td><td>   0.0000</td><td>   0.0000</td><td>   0.0000</td><td>   0.0000</td><td>   0.0000</td></tr>\n",
       "\t<tr><th scope=row>PKP1</th><td>  40.20504</td><td>  31.1820996</td><td>  36.908802</td><td>  13.7887</td><td>  11.37427</td><td>  17.81181</td><td> 292.7700</td><td> 305.5723</td><td> 315.5889</td><td> 367.8294</td><td> 401.5631</td><td> 331.5460</td></tr>\n",
       "\t<tr><th scope=row>RERE</th><td>2920.72862</td><td>2761.1006802</td><td>2944.795139</td><td>3125.8994</td><td>2853.90801</td><td>3300.52877</td><td>3159.1635</td><td>2956.8612</td><td>2825.2165</td><td>2466.0513</td><td>2506.2378</td><td>2643.5189</td></tr>\n",
       "\t<tr><th scope=row>CSMD2</th><td>   0.00000</td><td>   0.7424309</td><td>   2.636343</td><td>   0.0000</td><td>   0.00000</td><td>   0.00000</td><td>   0.0000</td><td>   0.0000</td><td>   0.0000</td><td>   0.0000</td><td>   0.0000</td><td>   0.0000</td></tr>\n",
       "\t<tr><th scope=row>HIVEP3</th><td> 500.88779</td><td> 473.6709422</td><td> 461.360026</td><td> 367.4690</td><td> 374.31692</td><td> 370.48569</td><td> 559.2658</td><td> 433.1937</td><td> 517.4729</td><td> 616.0858</td><td> 527.6821</td><td> 596.4288</td></tr>\n",
       "\t<tr><th scope=row>TTLL7</th><td> 185.94831</td><td> 185.6077360</td><td> 212.225612</td><td> 245.4389</td><td> 260.57421</td><td> 204.83584</td><td> 146.3850</td><td> 208.5081</td><td> 208.8456</td><td> 124.1282</td><td> 128.1370</td><td> 119.1678</td></tr>\n",
       "</tbody>\n",
       "</table>\n"
      ],
      "text/latex": [
       "A matrix: 6 × 12 of type dbl\n",
       "\\begin{tabular}{r|llllllllllll}\n",
       "  & MB468\\_000\\_01 & MB468\\_000\\_02 & MB468\\_000\\_03 & MB468\\_030\\_01 & MB468\\_030\\_02 & MB468\\_030\\_03 & MB468\\_120\\_01 & MB468\\_120\\_02 & MB468\\_120\\_03 & MB468\\_720\\_01 & MB468\\_720\\_02 & MB468\\_720\\_03\\\\\n",
       "\\hline\n",
       "\tC1orf141 &    0.00000 &    0.0000000 &    0.000000 &    0.0000 &    0.00000 &    0.00000 &    0.0000 &    0.0000 &    0.0000 &    0.0000 &    0.0000 &    0.0000\\\\\n",
       "\tPKP1 &   40.20504 &   31.1820996 &   36.908802 &   13.7887 &   11.37427 &   17.81181 &  292.7700 &  305.5723 &  315.5889 &  367.8294 &  401.5631 &  331.5460\\\\\n",
       "\tRERE & 2920.72862 & 2761.1006802 & 2944.795139 & 3125.8994 & 2853.90801 & 3300.52877 & 3159.1635 & 2956.8612 & 2825.2165 & 2466.0513 & 2506.2378 & 2643.5189\\\\\n",
       "\tCSMD2 &    0.00000 &    0.7424309 &    2.636343 &    0.0000 &    0.00000 &    0.00000 &    0.0000 &    0.0000 &    0.0000 &    0.0000 &    0.0000 &    0.0000\\\\\n",
       "\tHIVEP3 &  500.88779 &  473.6709422 &  461.360026 &  367.4690 &  374.31692 &  370.48569 &  559.2658 &  433.1937 &  517.4729 &  616.0858 &  527.6821 &  596.4288\\\\\n",
       "\tTTLL7 &  185.94831 &  185.6077360 &  212.225612 &  245.4389 &  260.57421 &  204.83584 &  146.3850 &  208.5081 &  208.8456 &  124.1282 &  128.1370 &  119.1678\\\\\n",
       "\\end{tabular}\n"
      ],
      "text/markdown": [
       "\n",
       "A matrix: 6 × 12 of type dbl\n",
       "\n",
       "| <!--/--> | MB468_000_01 | MB468_000_02 | MB468_000_03 | MB468_030_01 | MB468_030_02 | MB468_030_03 | MB468_120_01 | MB468_120_02 | MB468_120_03 | MB468_720_01 | MB468_720_02 | MB468_720_03 |\n",
       "|---|---|---|---|---|---|---|---|---|---|---|---|---|\n",
       "| C1orf141 |    0.00000 |    0.0000000 |    0.000000 |    0.0000 |    0.00000 |    0.00000 |    0.0000 |    0.0000 |    0.0000 |    0.0000 |    0.0000 |    0.0000 |\n",
       "| PKP1 |   40.20504 |   31.1820996 |   36.908802 |   13.7887 |   11.37427 |   17.81181 |  292.7700 |  305.5723 |  315.5889 |  367.8294 |  401.5631 |  331.5460 |\n",
       "| RERE | 2920.72862 | 2761.1006802 | 2944.795139 | 3125.8994 | 2853.90801 | 3300.52877 | 3159.1635 | 2956.8612 | 2825.2165 | 2466.0513 | 2506.2378 | 2643.5189 |\n",
       "| CSMD2 |    0.00000 |    0.7424309 |    2.636343 |    0.0000 |    0.00000 |    0.00000 |    0.0000 |    0.0000 |    0.0000 |    0.0000 |    0.0000 |    0.0000 |\n",
       "| HIVEP3 |  500.88779 |  473.6709422 |  461.360026 |  367.4690 |  374.31692 |  370.48569 |  559.2658 |  433.1937 |  517.4729 |  616.0858 |  527.6821 |  596.4288 |\n",
       "| TTLL7 |  185.94831 |  185.6077360 |  212.225612 |  245.4389 |  260.57421 |  204.83584 |  146.3850 |  208.5081 |  208.8456 |  124.1282 |  128.1370 |  119.1678 |\n",
       "\n"
      ],
      "text/plain": [
       "         MB468_000_01 MB468_000_02 MB468_000_03 MB468_030_01 MB468_030_02\n",
       "C1orf141    0.00000      0.0000000    0.000000     0.0000       0.00000  \n",
       "PKP1       40.20504     31.1820996   36.908802    13.7887      11.37427  \n",
       "RERE     2920.72862   2761.1006802 2944.795139  3125.8994    2853.90801  \n",
       "CSMD2       0.00000      0.7424309    2.636343     0.0000       0.00000  \n",
       "HIVEP3    500.88779    473.6709422  461.360026   367.4690     374.31692  \n",
       "TTLL7     185.94831    185.6077360  212.225612   245.4389     260.57421  \n",
       "         MB468_030_03 MB468_120_01 MB468_120_02 MB468_120_03 MB468_720_01\n",
       "C1orf141    0.00000      0.0000       0.0000       0.0000       0.0000   \n",
       "PKP1       17.81181    292.7700     305.5723     315.5889     367.8294   \n",
       "RERE     3300.52877   3159.1635    2956.8612    2825.2165    2466.0513   \n",
       "CSMD2       0.00000      0.0000       0.0000       0.0000       0.0000   \n",
       "HIVEP3    370.48569    559.2658     433.1937     517.4729     616.0858   \n",
       "TTLL7     204.83584    146.3850     208.5081     208.8456     124.1282   \n",
       "         MB468_720_02 MB468_720_03\n",
       "C1orf141    0.0000       0.0000   \n",
       "PKP1      401.5631     331.5460   \n",
       "RERE     2506.2378    2643.5189   \n",
       "CSMD2       0.0000       0.0000   \n",
       "HIVEP3    527.6821     596.4288   \n",
       "TTLL7     128.1370     119.1678   "
      ]
     },
     "metadata": {},
     "output_type": "display_data"
    }
   ],
   "source": [
    "# Get the normalized counts.\n",
    "normed = counts(dds, normalized=TRUE)\n",
    "head(normed)"
   ]
  },
  {
   "cell_type": "markdown",
   "metadata": {},
   "source": []
  },
  {
   "cell_type": "code",
   "execution_count": 40,
   "metadata": {
    "vscode": {
     "languageId": "r"
    }
   },
   "outputs": [],
   "source": [
    "# Write the results to the standard output.\n",
    "# write.csv(total, file=outfile, row.names=FALSE, quote=FALSE)\n",
    "write.csv(data1, file=\"./Counts/ComMB_0_30.csv\", row.names=TRUE, quote=FALSE)\n",
    "\n",
    "write.csv(data2, file=\"./Counts/ComMB_0_120.csv\", row.names=TRUE, quote=FALSE)\n",
    "\n",
    "write.csv(data3, file=\"./Counts/ComMB_0_720.csv\", row.names=TRUE, quote=FALSE)"
   ]
  },
  {
   "cell_type": "code",
   "execution_count": null,
   "metadata": {
    "vscode": {
     "languageId": "r"
    }
   },
   "outputs": [],
   "source": []
  },
  {
   "cell_type": "code",
   "execution_count": null,
   "metadata": {
    "vscode": {
     "languageId": "r"
    }
   },
   "outputs": [],
   "source": []
  }
 ],
 "metadata": {
  "kernelspec": {
   "display_name": "R",
   "language": "R",
   "name": "ir"
  },
  "language_info": {
   "codemirror_mode": "r",
   "file_extension": ".r",
   "mimetype": "text/x-r-source",
   "name": "R",
   "pygments_lexer": "r",
   "version": "4.3.0"
  }
 },
 "nbformat": 4,
 "nbformat_minor": 2
}
